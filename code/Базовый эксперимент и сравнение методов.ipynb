{
 "cells": [
  {
   "cell_type": "code",
   "execution_count": 1,
   "metadata": {},
   "outputs": [],
   "source": [
    "import numpy as np\n",
    "import pandas as pd\n",
    "import scipy.stats as sps\n",
    "import cvxpy\n",
    "import matplotlib.pyplot as plt\n",
    "\n",
    "from scipy.stats import norm\n",
    "\n",
    "from sklearn.model_selection import train_test_split\n",
    "from sklearn.preprocessing import StandardScaler\n",
    "from sklearn.linear_model import Ridge, Lasso, ElasticNet, LinearRegression\n",
    "from sklearn.model_selection import KFold\n",
    "from sklearn.pipeline import make_pipeline\n",
    "from sklearn.model_selection import cross_val_score\n",
    "from sklearn.linear_model import LinearRegression\n",
    "from sklearn.pipeline import Pipeline\n",
    "from sklearn.metrics import mean_squared_error\n",
    "\n",
    "from statsmodels.stats.outliers_influence import variance_inflation_factor"
   ]
  },
  {
   "cell_type": "markdown",
   "metadata": {},
   "source": [
    "Напишем функции для подсчета коэффициента корреляции Пирсона и генерации матриц Sim и Rel."
   ]
  },
  {
   "cell_type": "code",
   "execution_count": 2,
   "metadata": {},
   "outputs": [],
   "source": [
    "def get_sim(X):\n",
    "    return np.abs(np.corrcoef(X.T))\n",
    "\n",
    "def get_rel(X, y):\n",
    "    return np.abs(np.corrcoef(X.T, y)[:-1, -1])"
   ]
  },
  {
   "cell_type": "markdown",
   "metadata": {},
   "source": [
    "Напишем функции для генерации данных."
   ]
  },
  {
   "cell_type": "code",
   "execution_count": 3,
   "metadata": {},
   "outputs": [],
   "source": [
    "def generate_data(size, eps, loc=0, scale=1):\n",
    "    # генерируем y и x1 из стандартного нормального распределения\n",
    "    \n",
    "    # y - целевая переменная\n",
    "    y = sps.norm(loc=loc, scale=scale).rvs(size=size)\n",
    "    \n",
    "    # x1 - первый признак\n",
    "    x1 = sps.norm(loc=loc, scale=scale).rvs(size=size)\n",
    "\n",
    "    # x2 - второй признак\n",
    "    x2 = x1 + eps * y\n",
    "    X = np.array([x1, x2]).T\n",
    "    return X, y"
   ]
  },
  {
   "cell_type": "code",
   "execution_count": 4,
   "metadata": {},
   "outputs": [],
   "source": [
    "def generate_noise_features(sample_size, n_features, loc=0, scale=1):\n",
    "    X_noise = sps.norm(loc=loc, scale=scale).rvs(size=(sample_size, n_features))\n",
    "    return X_noise"
   ]
  },
  {
   "cell_type": "markdown",
   "metadata": {},
   "source": [
    "Напишем функцию для решения задачи квадратичного программирования."
   ]
  },
  {
   "cell_type": "code",
   "execution_count": 5,
   "metadata": {},
   "outputs": [],
   "source": [
    "def solve_qpfs(b, Q):\n",
    "    a = cvxpy.Variable(Q.shape[1])\n",
    "\n",
    "    problem = cvxpy.Problem(cvxpy.Maximize(b.T @ a - cvxpy.quad_form(a, Q)), [a >= 0])\n",
    "    problem.solve(solver='ECOS')\n",
    "\n",
    "    return a.value"
   ]
  },
  {
   "cell_type": "markdown",
   "metadata": {},
   "source": [
    "Cгенерируем все данные: два главных и какое-то количество шумовых признаков."
   ]
  },
  {
   "cell_type": "code",
   "execution_count": 6,
   "metadata": {},
   "outputs": [],
   "source": [
    "def get_all_data(sample_size, noise_features, eps):\n",
    "    X_main, y = generate_data(sample_size, eps)\n",
    "    \n",
    "    if noise_features > 0:\n",
    "        X_noise = generate_noise_features(sample_size, noise_features)\n",
    "        # соберем итоговую матрицу признаков, добавив шумовые признаки\n",
    "        X = np.hstack((X_main, X_noise))\n",
    "    else:\n",
    "        # соберем итоговую матрицу признаков\n",
    "        X = X_main\n",
    "        \n",
    "    return X, y"
   ]
  },
  {
   "cell_type": "markdown",
   "metadata": {},
   "source": [
    "Напишем функцию для подсчета индекса мультиколлинеарности."
   ]
  },
  {
   "cell_type": "code",
   "execution_count": 7,
   "metadata": {},
   "outputs": [],
   "source": [
    "def get_VIF(X):\n",
    "    # возвращаем максимальный из VIF по признакам в датасете\n",
    "    return np.array([variance_inflation_factor(X, i) for i in range(X.shape[1])]).max()"
   ]
  },
  {
   "cell_type": "markdown",
   "metadata": {},
   "source": [
    "Решим задачу оптимизации методом QPFS для отбора признаков.\n",
    "\n",
    "\\begin{cases}\n",
    "z^* = \\arg \\min_{z \\in [0, 1]^n}  z^T Q z - b^T z \\\\\n",
    "\\|z\\|_1 \\le 1\n",
    "\\end{cases}"
   ]
  },
  {
   "cell_type": "code",
   "execution_count": 8,
   "metadata": {},
   "outputs": [],
   "source": [
    "def get_qpfs_experiment(X, y):\n",
    "    \n",
    "    # получим матрицы Rel и Q\n",
    "    b = get_rel(X, y)\n",
    "    Q = get_sim(X)\n",
    "    \n",
    "    # QBFS-метод\n",
    "    a = solve_qpfs(b, Q)\n",
    "    \n",
    "    return a"
   ]
  },
  {
   "cell_type": "markdown",
   "metadata": {},
   "source": [
    "Напишем функции для эксперимента с Ridge-регрессией и Lasso-регрессией."
   ]
  },
  {
   "cell_type": "code",
   "execution_count": 9,
   "metadata": {},
   "outputs": [],
   "source": [
    "def get_ridge(X_train, y_train, X_test, y_test, alpha):\n",
    "    scaler = StandardScaler()\n",
    "\n",
    "    # обучим этот класс на обучающей выборке\n",
    "    scaler.fit(X_train)\n",
    "\n",
    "    # применим стандартизацию к обучающей и тестовой выборкам\n",
    "    X_train_stand = scaler.transform(X_train)\n",
    "    X_test_stand = scaler.transform(X_test)\n",
    "    \n",
    "    model = Ridge(alpha=alpha)\n",
    "\n",
    "    model.fit(X_train_stand, y_train)\n",
    "    \n",
    "    ridge_mse = mean_squared_error(model.predict(X_test_stand), y_test)\n",
    "    \n",
    "    # количество шумовых признаков в случае ridge-регрессии считаем как\n",
    "    # количество признаков,коэффициенты при которых не очень близки к нулю\n",
    "    curr_noise = (model.coef_ >= 0.000001).sum()\n",
    "    \n",
    "    ridge_VIF = get_VIF(X_train)\n",
    "    \n",
    "    return ridge_VIF, curr_noise, ridge_mse\n",
    "    "
   ]
  },
  {
   "cell_type": "code",
   "execution_count": 10,
   "metadata": {},
   "outputs": [],
   "source": [
    "def get_lasso(X_train, y_train, X_test, y_test, alpha):\n",
    "    \n",
    "    # стандартизируем признаки\n",
    "    scaler = StandardScaler()\n",
    "\n",
    "    # обучим этот класс на обучающей выборке\n",
    "    scaler.fit(X_train)\n",
    "\n",
    "    # применим стандартизацию к обучающей и тестовой выборкам\n",
    "    X_train_stand = scaler.transform(X_train)\n",
    "    X_test_stand = scaler.transform(X_test)\n",
    "    \n",
    "    model = Lasso(alpha=alpha)\n",
    "\n",
    "    model.fit(X_train_stand, y_train)\n",
    "    \n",
    "    lasso_mse = mean_squared_error(model.predict(X_test_stand), y_test)\n",
    "    \n",
    "    lasso_VIF = get_VIF(X_train[:, model.coef_ != 0])\n",
    "    \n",
    "    curr_noise = (model.coef_[2:] != 0).sum()\n",
    "    \n",
    "    return lasso_VIF, curr_noise, lasso_mse"
   ]
  },
  {
   "cell_type": "markdown",
   "metadata": {},
   "source": [
    "Также сделаем функции для qpfs-метода с разными порогами."
   ]
  },
  {
   "cell_type": "code",
   "execution_count": 11,
   "metadata": {},
   "outputs": [],
   "source": [
    "def get_qpfs_2_features(X_train, y_train, X_test, y_test):\n",
    "    \n",
    "    # qpfs (отбираем оба главных признака)\n",
    "    best_a = get_qpfs_experiment(X_train, y_train)\n",
    "    \n",
    "    # устанавливаем порог tau как наименьшее значение среди best_a[0] и best_a[1], \n",
    "    # чтобы отобрать два признака и смотрим сколько шумовых признаков еще отобрали\n",
    "    threshold = best_a[:2].min()\n",
    "    \n",
    "    # оставляем только отобранные признаки\n",
    "    qpfs_X_train = X_train[:, best_a >= threshold]\n",
    "    \n",
    "    # cмотрим, сколько шумовых признаков отобрано\n",
    "    curr_noise = qpfs_X_train.shape[1] - 2  # вычитаем 2, т.к. два основных признака точно отобрали\n",
    "    \n",
    "    # делаем обычную линейную регрессию\n",
    "    model = LinearRegression()\n",
    "    model.fit(qpfs_X_train, y_train)\n",
    "    \n",
    "    \n",
    "    qpfs_mse = mean_squared_error(model.predict(X_test[:, best_a >= threshold]), y_test)\n",
    "    \n",
    "    qpfs_VIF = get_VIF(qpfs_X_train)\n",
    "    \n",
    "    return qpfs_VIF, curr_noise, qpfs_mse"
   ]
  },
  {
   "cell_type": "code",
   "execution_count": 12,
   "metadata": {},
   "outputs": [],
   "source": [
    "def get_qpfs_some_features(X_train, y_train, X_test, y_test, threshold=0.00001):\n",
    "    \n",
    "    # qpfs (отбираем один главный признак)\n",
    "    best_a = get_qpfs_experiment(X_train, y_train)\n",
    "    \n",
    "    # оставляем только отобранные признаки (cравниваем с переданным порогом threshold)\n",
    "    qpfs_X_train = X_train[:, best_a >= threshold]\n",
    "    \n",
    "    # cмотрим, сколько шумовых признаков отобрано\n",
    "    curr_noise = qpfs_X_train.shape[1] - (best_a[:2] >= threshold).sum()\n",
    "    # берем только один основной признак\n",
    "    \n",
    "    # делаем обычную линейную регрессию\n",
    "    model = LinearRegression()\n",
    "    model.fit(qpfs_X_train, y_train)\n",
    "    \n",
    "    qpfs_mse = mean_squared_error(model.predict(X_test[:, best_a >= threshold]), y_test)\n",
    "    \n",
    "    qpfs_VIF = get_VIF(qpfs_X_train)\n",
    "    \n",
    "    return qpfs_VIF, curr_noise, qpfs_mse"
   ]
  },
  {
   "cell_type": "markdown",
   "metadata": {},
   "source": [
    "Напишем общую функцию для запуска эксперимента."
   ]
  },
  {
   "cell_type": "code",
   "execution_count": 13,
   "metadata": {},
   "outputs": [],
   "source": [
    "def get_experiment(train_sample_size, noise_features, eps, test_size, alpha=0.01, threshold=0.00001):\n",
    "    # сгенерируем данные для обучения\n",
    "    X_train, y_train = get_all_data(train_sample_size, noise_features, eps)\n",
    "    \n",
    "    # сгенерируем данные для теста\n",
    "    X_test, y_test = get_all_data(test_size, noise_features, eps)\n",
    "    \n",
    "    qpfs_2_features = np.array(get_qpfs_2_features(X_train, y_train, \n",
    "                                                   X_test, y_test))\n",
    "    \n",
    "    qpfs_some_features = np.array(get_qpfs_some_features(X_train, y_train, \n",
    "                                                         X_test, y_test, threshold))\n",
    "    \n",
    "    ridge_res = np.array(get_ridge(X_train, y_train, X_test, y_test, alpha))\n",
    "    \n",
    "    lasso_res = np.array(get_lasso(X_train, y_train, X_test, y_test, alpha))\n",
    "    \n",
    "    res = np.vstack((qpfs_2_features, qpfs_some_features, ridge_res, lasso_res))\n",
    "    \n",
    "    \n",
    "    return res"
   ]
  },
  {
   "cell_type": "code",
   "execution_count": 14,
   "metadata": {},
   "outputs": [],
   "source": [
    "def show_results(res_matrix):\n",
    "    return pd.DataFrame(res_matrix,\n",
    "                        index=['QPFS (с отбором двух главных признаков)', 'QPFS c фикс. порогом', \n",
    "                               'Ridge', 'Lasso'], \n",
    "                        columns=['VIF', 'Количество шумовых признаков', \n",
    "                                 'MSE на тестовой выборке'])"
   ]
  },
  {
   "cell_type": "markdown",
   "metadata": {},
   "source": [
    "### Данные для эксперимента"
   ]
  },
  {
   "cell_type": "code",
   "execution_count": 15,
   "metadata": {},
   "outputs": [],
   "source": [
    "train_sample_size = 1000\n",
    "noise_features = 10\n",
    "eps = 0.001\n",
    "\n",
    "# коэф-т регуляризации для Ridge и Lasso\n",
    "alpha = 0.01\n",
    "\n",
    "test_size = 100"
   ]
  },
  {
   "cell_type": "code",
   "execution_count": 16,
   "metadata": {},
   "outputs": [
    {
     "data": {
      "text/html": [
       "<div>\n",
       "<style scoped>\n",
       "    .dataframe tbody tr th:only-of-type {\n",
       "        vertical-align: middle;\n",
       "    }\n",
       "\n",
       "    .dataframe tbody tr th {\n",
       "        vertical-align: top;\n",
       "    }\n",
       "\n",
       "    .dataframe thead th {\n",
       "        text-align: right;\n",
       "    }\n",
       "</style>\n",
       "<table border=\"1\" class=\"dataframe\">\n",
       "  <thead>\n",
       "    <tr style=\"text-align: right;\">\n",
       "      <th></th>\n",
       "      <th>VIF</th>\n",
       "      <th>Количество шумовых признаков</th>\n",
       "      <th>MSE на тестовой выборке</th>\n",
       "    </tr>\n",
       "  </thead>\n",
       "  <tbody>\n",
       "    <tr>\n",
       "      <th>QPFS (с отбором двух главных признаков)</th>\n",
       "      <td>1.068213e+06</td>\n",
       "      <td>10.0</td>\n",
       "      <td>1.050598e-24</td>\n",
       "    </tr>\n",
       "    <tr>\n",
       "      <th>QPFS c фикс. порогом</th>\n",
       "      <td>1.016200e+00</td>\n",
       "      <td>10.0</td>\n",
       "      <td>1.039584e+00</td>\n",
       "    </tr>\n",
       "    <tr>\n",
       "      <th>Ridge</th>\n",
       "      <td>1.068213e+06</td>\n",
       "      <td>5.0</td>\n",
       "      <td>9.485545e-01</td>\n",
       "    </tr>\n",
       "    <tr>\n",
       "      <th>Lasso</th>\n",
       "      <td>1.016196e+00</td>\n",
       "      <td>9.0</td>\n",
       "      <td>1.031756e+00</td>\n",
       "    </tr>\n",
       "  </tbody>\n",
       "</table>\n",
       "</div>"
      ],
      "text/plain": [
       "                                                  VIF  \\\n",
       "QPFS (с отбором двух главных признаков)  1.068213e+06   \n",
       "QPFS c фикс. порогом                     1.016200e+00   \n",
       "Ridge                                    1.068213e+06   \n",
       "Lasso                                    1.016196e+00   \n",
       "\n",
       "                                         Количество шумовых признаков  \\\n",
       "QPFS (с отбором двух главных признаков)                          10.0   \n",
       "QPFS c фикс. порогом                                             10.0   \n",
       "Ridge                                                             5.0   \n",
       "Lasso                                                             9.0   \n",
       "\n",
       "                                         MSE на тестовой выборке  \n",
       "QPFS (с отбором двух главных признаков)             1.050598e-24  \n",
       "QPFS c фикс. порогом                                1.039584e+00  \n",
       "Ridge                                               9.485545e-01  \n",
       "Lasso                                               1.031756e+00  "
      ]
     },
     "execution_count": 16,
     "metadata": {},
     "output_type": "execute_result"
    }
   ],
   "source": [
    "# проведем один эксперимент\n",
    "show_results(get_experiment(train_sample_size, noise_features, eps, test_size))"
   ]
  },
  {
   "cell_type": "markdown",
   "metadata": {},
   "source": [
    "А теперь сделаем несколько экспериментов и усредним результаты."
   ]
  },
  {
   "cell_type": "code",
   "execution_count": 17,
   "metadata": {},
   "outputs": [],
   "source": [
    "num_attempts = 100"
   ]
  },
  {
   "cell_type": "code",
   "execution_count": 18,
   "metadata": {},
   "outputs": [],
   "source": [
    "# усредним результаты\n",
    "mean_results = np.array([get_experiment(train_sample_size, \n",
    "                                        noise_features, eps, test_size) \n",
    "                         for i in range(num_attempts)]).mean(axis=0)"
   ]
  },
  {
   "cell_type": "code",
   "execution_count": 19,
   "metadata": {},
   "outputs": [
    {
     "data": {
      "text/html": [
       "<div>\n",
       "<style scoped>\n",
       "    .dataframe tbody tr th:only-of-type {\n",
       "        vertical-align: middle;\n",
       "    }\n",
       "\n",
       "    .dataframe tbody tr th {\n",
       "        vertical-align: top;\n",
       "    }\n",
       "\n",
       "    .dataframe thead th {\n",
       "        text-align: right;\n",
       "    }\n",
       "</style>\n",
       "<table border=\"1\" class=\"dataframe\">\n",
       "  <thead>\n",
       "    <tr style=\"text-align: right;\">\n",
       "      <th></th>\n",
       "      <th>VIF</th>\n",
       "      <th>Количество шумовых признаков</th>\n",
       "      <th>MSE на тестовой выборке</th>\n",
       "    </tr>\n",
       "  </thead>\n",
       "  <tbody>\n",
       "    <tr>\n",
       "      <th>QPFS (с отбором двух главных признаков)</th>\n",
       "      <td>1.023882e+06</td>\n",
       "      <td>8.96</td>\n",
       "      <td>1.170779e-23</td>\n",
       "    </tr>\n",
       "    <tr>\n",
       "      <th>QPFS c фикс. порогом</th>\n",
       "      <td>1.014672e+00</td>\n",
       "      <td>8.74</td>\n",
       "      <td>1.045660e+00</td>\n",
       "    </tr>\n",
       "    <tr>\n",
       "      <th>Ridge</th>\n",
       "      <td>1.023911e+06</td>\n",
       "      <td>5.90</td>\n",
       "      <td>9.505797e-01</td>\n",
       "    </tr>\n",
       "    <tr>\n",
       "      <th>Lasso</th>\n",
       "      <td>1.012684e+00</td>\n",
       "      <td>7.55</td>\n",
       "      <td>1.040215e+00</td>\n",
       "    </tr>\n",
       "  </tbody>\n",
       "</table>\n",
       "</div>"
      ],
      "text/plain": [
       "                                                  VIF  \\\n",
       "QPFS (с отбором двух главных признаков)  1.023882e+06   \n",
       "QPFS c фикс. порогом                     1.014672e+00   \n",
       "Ridge                                    1.023911e+06   \n",
       "Lasso                                    1.012684e+00   \n",
       "\n",
       "                                         Количество шумовых признаков  \\\n",
       "QPFS (с отбором двух главных признаков)                          8.96   \n",
       "QPFS c фикс. порогом                                             8.74   \n",
       "Ridge                                                            5.90   \n",
       "Lasso                                                            7.55   \n",
       "\n",
       "                                         MSE на тестовой выборке  \n",
       "QPFS (с отбором двух главных признаков)             1.170779e-23  \n",
       "QPFS c фикс. порогом                                1.045660e+00  \n",
       "Ridge                                               9.505797e-01  \n",
       "Lasso                                               1.040215e+00  "
      ]
     },
     "execution_count": 19,
     "metadata": {},
     "output_type": "execute_result"
    }
   ],
   "source": [
    "# выведем усредненные значения\n",
    "show_results(mean_results)"
   ]
  },
  {
   "cell_type": "code",
   "execution_count": null,
   "metadata": {},
   "outputs": [],
   "source": []
  }
 ],
 "metadata": {
  "kernelspec": {
   "display_name": "Python [conda env:mipt-stats] *",
   "language": "python",
   "name": "conda-env-mipt-stats-py"
  },
  "language_info": {
   "codemirror_mode": {
    "name": "ipython",
    "version": 3
   },
   "file_extension": ".py",
   "mimetype": "text/x-python",
   "name": "python",
   "nbconvert_exporter": "python",
   "pygments_lexer": "ipython3",
   "version": "3.7.6"
  }
 },
 "nbformat": 4,
 "nbformat_minor": 4
}
